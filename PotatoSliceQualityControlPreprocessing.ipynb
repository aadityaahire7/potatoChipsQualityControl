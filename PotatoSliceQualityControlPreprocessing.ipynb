{
  "nbformat": 4,
  "nbformat_minor": 0,
  "metadata": {
    "colab": {
      "provenance": [],
      "authorship_tag": "ABX9TyNfRTCRTGvbhpLbsNhkIelH",
      "include_colab_link": true
    },
    "kernelspec": {
      "name": "python3",
      "display_name": "Python 3"
    },
    "language_info": {
      "name": "python"
    }
  },
  "cells": [
    {
      "cell_type": "markdown",
      "metadata": {
        "id": "view-in-github",
        "colab_type": "text"
      },
      "source": [
        "<a href=\"https://colab.research.google.com/github/aadityaahire7/potatoChipsQualityControl/blob/main/PotatoSliceQualityControlPreprocessing.ipynb\" target=\"_parent\"><img src=\"https://colab.research.google.com/assets/colab-badge.svg\" alt=\"Open In Colab\"/></a>"
      ]
    },
    {
      "cell_type": "code",
      "execution_count": null,
      "metadata": {
        "id": "neMpXLbJCvqn"
      },
      "outputs": [],
      "source": [
        "import os\n",
        "import cv2\n",
        "import numpy as np\n",
        "from PIL import Image\n",
        "from matplotlib import pyplot as plt\n",
        "\n"
      ]
    },
    {
      "cell_type": "code",
      "source": [
        "# Define the path for input and output images\n",
        "input_folder = \"Potato slice\"  # Change this to the actual folder path if different\n"
      ],
      "metadata": {
        "id": "rUI659McC9am"
      },
      "execution_count": null,
      "outputs": []
    },
    {
      "cell_type": "code",
      "source": [
        "output_folder = \"Processed Potato slice\"\n",
        "\n"
      ],
      "metadata": {
        "id": "QscluYEWC_-K"
      },
      "execution_count": null,
      "outputs": []
    },
    {
      "cell_type": "code",
      "source": [
        "# Create the output folder if it does not exist\n",
        "os.makedirs(output_folder, exist_ok=True)\n"
      ],
      "metadata": {
        "id": "holig-kYDCdy"
      },
      "execution_count": null,
      "outputs": []
    },
    {
      "cell_type": "code",
      "source": [
        "\n",
        "# Define the standard size and DPI for resizing\n",
        "standard_size = (256, 256)  # Width and height in pixels\n",
        "dpi = 300"
      ],
      "metadata": {
        "id": "V5-bRUN1DD1v"
      },
      "execution_count": null,
      "outputs": []
    },
    {
      "cell_type": "code",
      "source": [
        "# Function to adjust brightness\n",
        "def adjust_brightness(image, target_brightness=128):\n",
        "    # Convert to LAB color space to adjust brightness\n",
        "    lab = cv2.cvtColor(image, cv2.COLOR_BGR2LAB)\n",
        "    l_channel, a, b = cv2.split(lab)\n",
        "\n",
        "    # Apply CLAHE (Contrast Limited Adaptive Histogram Equalization) for brightness control\n",
        "    clahe = cv2.createCLAHE(clipLimit=2.0, tileGridSize=(8, 8))\n",
        "    cl = clahe.apply(l_channel)\n",
        "\n",
        "    # Merge back the channels and convert to BGR\n",
        "    merged = cv2.merge((cl, a, b))\n",
        "    bright_image = cv2.cvtColor(merged, cv2.COLOR_LAB2BGR)\n",
        "\n",
        "    return bright_image"
      ],
      "metadata": {
        "id": "YwwK3oF-C3yO"
      },
      "execution_count": null,
      "outputs": []
    },
    {
      "cell_type": "code",
      "source": [
        "# Iterate through all images in the input folder\n",
        "for filename in os.listdir(input_folder):\n",
        "    # Check if the file is an image\n",
        "    if filename.endswith(\".jpg\") or filename.endswith(\".png\"):\n",
        "        # Read the image\n",
        "        image_path = os.path.join(input_folder, filename)\n",
        "        image = cv2.imread(image_path)\n",
        "\n",
        "        # Check if the image was loaded correctly\n",
        "        if image is None:\n",
        "            print(f\"Error loading image {filename}. Skipping...\")\n",
        "            continue\n",
        "\n",
        "        # Resize the image to the standard size\n",
        "        resized_image = cv2.resize(image, standard_size, interpolation=cv2.INTER_AREA)\n",
        "\n",
        "        # Adjust the brightness to be consistent\n",
        "        bright_image = adjust_brightness(resized_image)\n",
        "\n",
        "        # Convert the image to RGB format as PIL works with RGB\n",
        "        final_image = cv2.cvtColor(bright_image, cv2.COLOR_BGR2RGB)\n",
        "\n",
        "        # Convert the image to PIL format to save with DPI\n",
        "        pil_image = Image.fromarray(final_image)\n",
        "\n",
        "        # Save the image with the desired DPI\n",
        "        output_path = os.path.join(output_folder, filename)\n",
        "        pil_image.save(output_path, dpi=(dpi, dpi))  # Set the DPI to 300\n",
        "\n",
        "        # Debugging: Print confirmation and show the image\n",
        "        print(f\"Processed and saved image: {output_path} with DPI: {dpi}\")\n",
        "        plt.imshow(final_image)\n",
        "        plt.title(f\"Processed Image - {filename}\")\n",
        "        plt.show()\n",
        "\n",
        "print(f\"Processing complete. Images are saved in '{output_folder}' with size {standard_size} and {dpi} DPI.\")"
      ],
      "metadata": {
        "id": "YkRuMhrBC5mP"
      },
      "execution_count": null,
      "outputs": []
    }
  ]
}